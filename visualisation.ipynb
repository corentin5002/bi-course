{
 "cells": [
  {
   "cell_type": "code",
   "metadata": {},
   "source": [
    "import pandas as pd\n",
    "import plotly.express as px\n",
    "import numpy as np\n",
    "import utilsBox as ub\n",
    "from pprint import pprint\n",
    "import json\n",
    "import os\n",
    "import folium\n",
    "from unidecode import unidecode\n"
   ],
   "outputs": [],
   "execution_count": null
  },
  {
   "cell_type": "code",
   "metadata": {},
   "source": [
    "stations_df = pd.read_csv('Infos_Stations.csv')\n",
    "price_df = pd.read_csv('Prix_2024.csv')"
   ],
   "outputs": [],
   "execution_count": null
  },
  {
   "cell_type": "code",
   "metadata": {},
   "source": [
    "# how to rename a column\n",
    "stations_df.rename(columns={'ID': 'id'}, inplace=True)"
   ],
   "outputs": [],
   "execution_count": null
  },
  {
   "cell_type": "code",
   "metadata": {},
   "source": [
    "stations_df.head()"
   ],
   "outputs": [],
   "execution_count": null
  },
  {
   "cell_type": "code",
   "metadata": {},
   "source": [
    "# join the two dataframes by the station id\n",
    "\n",
    "df = pd.merge(stations_df, price_df, on='id')\n",
    "\n",
    "df.head()"
   ],
   "outputs": [],
   "execution_count": null
  },
  {
   "cell_type": "code",
   "metadata": {},
   "source": [
    "# Count number of stations that sell gazole (group by ids and mean the values)\n",
    "\n",
    "selected_fuel = 'Gazole'\n",
    "\n",
    "Gazole = df.groupby('id')[\"Gazole\"].sum()\n",
    "\n",
    "print('len gazole', len(Gazole))\n",
    "# exclude lines where Gazole is < 1\n",
    "\n",
    "Gazole = Gazole[Gazole > .0]\n",
    "\n",
    "Gazole\n"
   ],
   "outputs": [],
   "execution_count": null
  },
  {
   "cell_type": "code",
   "metadata": {},
   "source": [
    "# set every enseignes to lower case to avoid duplicates\n",
    "df['Enseignes'] = df['Enseignes'].str.lower()\n"
   ],
   "outputs": [],
   "execution_count": null
  },
  {
   "cell_type": "code",
   "metadata": {},
   "source": [
    "selected_brands = ['total energy', 'carrefour', 'intermarche', '8ahuit']\n",
    "\n",
    "selected_brands_df = df[df['Enseignes'].isin(selected_brands)]\n",
    "brands_date_evolution = selected_brands_df.groupby(['Enseignes', 'Date'])[selected_fuel].mean()\n",
    "\n"
   ],
   "outputs": [],
   "execution_count": null
  },
  {
   "cell_type": "code",
   "metadata": {},
   "source": [
    "# plot the price of gazole for each enseignes from the groupby object using express\n",
    "\n",
    "fig = px.line(brands_date_evolution, x=brands_date_evolution.index.get_level_values(1),\n",
    "              y=brands_date_evolution.values, color=brands_date_evolution.index.get_level_values(0))\n",
    "fig.show()\n"
   ],
   "outputs": [],
   "execution_count": null
  },
  {
   "metadata": {},
   "cell_type": "markdown",
   "source": [
    "# Cleaning data\n",
    "\n",
    "Clean enseignes"
   ]
  },
  {
   "cell_type": "code",
   "metadata": {},
   "source": [
    "print(len(pd.unique(df['Enseignes'])))\n",
    "pd.unique(df['Enseignes'])"
   ],
   "outputs": [],
   "execution_count": null
  },
  {
   "metadata": {},
   "cell_type": "code",
   "source": [
    "# Right format for the coordinates\n",
    "stations_df['Longitude'] = stations_df['Longitude'].apply(float) / 10 ** 5\n",
    "stations_df['Latitude'] = stations_df['Latitude'].apply(float) / 10 ** 5\n",
    "\n",
    "# Change ids to strings\n",
    "stations_df['id'] = stations_df['id'].apply(str)\n",
    "price_df['id'] = price_df['id'].apply(str)\n",
    "df['id'] = df['id'].apply(str)\n",
    "\n",
    "stations_df.rename(columns={'ID': 'id'}, inplace=True)\n",
    "\n",
    "# Change brands column to lower case\n",
    "stations_df['Enseignes'] = stations_df['Enseignes'].str.lower()\n",
    "\n",
    "# Get rid of the accents and special character (ex: é -> e)\n",
    "def remove_accents(text):\n",
    "    return unidecode(text)\n",
    "\n",
    "stations_df['Enseignes'] = stations_df['Enseignes'].apply(remove_accents)\n",
    "df['Enseignes'] = df['Enseignes'].apply(remove_accents)\n",
    "\n",
    "# Aggregate enseignes with similar names\n",
    "ub.rename_brand(stations_df, 'access', 'taccess')\n",
    "ub.rename_brand(stations_df, 'total', 'total energy')\n",
    "ub.rename_brand(stations_df, 'carrefour', 'carrefour')\n",
    "ub.rename_brand(stations_df, 'intermarch', 'intermarche')\n",
    "ub.rename_brand(stations_df, 'huit', '8aHuit')\n",
    "ub.rename_brand(stations_df, 'system', 'system u')\n",
    "ub.rename_brand(stations_df, ' u', 'system u')\n",
    "ub.rename_brand(stations_df, 'esso', 'esso')\n",
    "\n",
    "\n",
    "ub.rename_brand(df, 'access', 'taccess')\n",
    "ub.rename_brand(df, 'total', 'total energy')\n",
    "ub.rename_brand(df, 'carrefour', 'carrefour')\n",
    "ub.rename_brand(df, 'intermarch', 'intermarche')\n",
    "ub.rename_brand(df, 'huit', '8aHuit')\n",
    "ub.rename_brand(df, 'system', 'system u')\n",
    "ub.rename_brand(df, ' u', 'system u')\n",
    "ub.rename_brand(df, 'esso', 'esso')\n",
    "\n",
    "stations_df.head()"
   ],
   "outputs": [],
   "execution_count": null
  },
  {
   "metadata": {},
   "cell_type": "code",
   "source": [
    "# count the number of stations for each enseignes\n",
    "number_station_brand = df.groupby('Enseignes')['id'].unique().apply(len).sort_values(ascending=False)\n",
    "# print(number_station_enseigne)\n",
    "\n",
    "# Filter df by the enseignes that have more than 100 stations\n",
    "selected_brands = number_station_brand[number_station_brand > 100].index.tolist()\n",
    "selected_brands_df = df[df['Enseignes'].isin(selected_brands)]\n",
    "\n",
    "# group by enseignes and date and calculate the mean of gazole\n",
    "brands_date_evolution = selected_brands_df.groupby(['Enseignes', 'Date'])[selected_fuel].mean()\n"
   ],
   "outputs": [],
   "execution_count": null
  },
  {
   "cell_type": "code",
   "metadata": {},
   "source": [
    "\n",
    "# Filter price_df and stations_df for the enseignes that got more than 100 stations\n",
    "before = len(stations_df)\n",
    "stations_df = stations_df[stations_df['Enseignes'].isin(selected_brands)]\n",
    "print(f'{before} -> {len(stations_df)}')\n",
    "\n",
    "before = len(price_df)\n",
    "price_df = price_df[price_df['id'].isin(stations_df['id'])]\n",
    "\n",
    "print(f'{before} -> {len(price_df)}')\n",
    "\n",
    "df = df[ df['id'].isin( stations_df['id'].tolist() ) ]\n"
   ],
   "outputs": [],
   "execution_count": null
  },
  {
   "metadata": {},
   "cell_type": "code",
   "source": [
    "# plot the price of gazole for each enseignes from the groupby object using express\n",
    "fig = px.line(brands_date_evolution, x=brands_date_evolution.index.get_level_values(1),\n",
    "              y=brands_date_evolution.values, color=brands_date_evolution.index.get_level_values(0))\n",
    "fig.show()\n"
   ],
   "outputs": [],
   "execution_count": null
  },
  {
   "metadata": {},
   "cell_type": "markdown",
   "source": "## DAY 2 : Competitor comparison per \"enseignes\" (brand)"
  },
  {
   "metadata": {},
   "cell_type": "markdown",
   "source": "**Get per carrefour stations, the concurrents within the 10km radius**"
  },
  {
   "metadata": {},
   "cell_type": "code",
   "source": [
    "target_brand = 'carrefour'\n",
    "search_radius = 10"
   ],
   "outputs": [],
   "execution_count": null
  },
  {
   "metadata": {},
   "cell_type": "code",
   "source": [
    "target_brand_df = stations_df[stations_df['Enseignes'] == target_brand]\n",
    "target_brand_df.head()"
   ],
   "outputs": [],
   "execution_count": null
  },
  {
   "metadata": {},
   "cell_type": "code",
   "source": [
    "competitor_df = stations_df[stations_df['Enseignes'] != target_brand]\n",
    "print(f\"Number of competitors' stations (other brand than {target_brand}): {len(competitor_df)}\")\n",
    "print(f\"Number of {target_brand}'s stations: {len(target_brand_df)}\")"
   ],
   "outputs": [],
   "execution_count": null
  },
  {
   "metadata": {},
   "cell_type": "markdown",
   "source": "Dict containing the id of the carrefour stations and the list of concurrents within the 10km radius"
  },
  {
   "metadata": {},
   "cell_type": "code",
   "source": [
    "target_brand_df.to_csv('data/carrefour.csv')\n",
    "competitor_df.to_csv('data/competitor.csv')"
   ],
   "outputs": [],
   "execution_count": null
  },
  {
   "metadata": {},
   "cell_type": "code",
   "source": [
    "def get_station_coord_dict(df):\n",
    "    return {\n",
    "        df.loc[id, 'id']: (df.loc[id, 'Latitude'], df.loc[id, 'Longitude'])\n",
    "        for id in df.index\n",
    "    }\n"
   ],
   "outputs": [],
   "execution_count": null
  },
  {
   "metadata": {},
   "cell_type": "code",
   "source": [
    "target_id = get_station_coord_dict(target_brand_df)\n",
    "competitor_coord_dict = get_station_coord_dict(competitor_df)\n",
    "\n",
    "target_id"
   ],
   "outputs": [],
   "execution_count": null
  },
  {
   "metadata": {},
   "cell_type": "code",
   "source": [
    "def get_list_nearby_competitors(id_target, target_dict, competitor_dict):\n",
    "    L_competitors = list()\n",
    "\n",
    "    for id_competitor in competitor_dict:\n",
    "        distance = ub.haversine(\n",
    "            target_dict[id_target][0],\n",
    "            target_dict[id_target][1],\n",
    "            competitor_dict[id_competitor][0],\n",
    "            competitor_dict[id_competitor][1]\n",
    "        )\n",
    "\n",
    "        if distance <= search_radius:\n",
    "            L_competitors.append(id_competitor)\n",
    "\n",
    "    return L_competitors\n",
    "\n",
    "json_file_path = f'competitors_stations_{target_brand}_{search_radius}_km.json'\n",
    "\n",
    "if os.path.exists(json_file_path):\n",
    "    with open(json_file_path, 'r') as f:\n",
    "        nearby_id_competitor_dict = json.load(f)\n",
    "else:\n",
    "    nearby_id_competitor_dict = {id: get_list_nearby_competitors(id, target_id, competitor_coord_dict) for id in target_id}\n",
    "\n",
    "\n",
    "pprint(nearby_id_competitor_dict)"
   ],
   "outputs": [],
   "execution_count": null
  },
  {
   "metadata": {},
   "cell_type": "code",
   "source": [
    "\n",
    "with open(json_file_path, \"w\") as f:\n",
    "    json.dump(nearby_id_competitor_dict, f)"
   ],
   "outputs": [],
   "execution_count": null
  },
  {
   "metadata": {},
   "cell_type": "code",
   "source": [
    "def number_concurent_per_target(dict):\n",
    "    return {id: len(dict[id]) for id in dict}\n",
    "\n",
    "pprint(number_concurent_per_target(nearby_id_competitor_dict))"
   ],
   "outputs": [],
   "execution_count": null
  },
  {
   "metadata": {},
   "cell_type": "code",
   "source": [
    "# json_file_exist = False\n",
    "#\n",
    "#\n",
    "# if os.path.exists(json_file_path):\n",
    "#     with open(json_file_path, \"r\") as f:\n",
    "#         target_nearby_competitor_dict = json.load(f)\n"
   ],
   "outputs": [],
   "execution_count": null
  },
  {
   "metadata": {},
   "cell_type": "markdown",
   "source": "# DAY 3 :"
  },
  {
   "metadata": {},
   "cell_type": "code",
   "source": [
    "focus_target = list(target_id.keys())[1]  # TODO: Change selection of this stations\n",
    "print(focus_target)\n",
    "print(nearby_id_competitor_dict[focus_target])\n",
    "\n",
    "print(f\"Focus target: {target_id[focus_target][0]} {type(target_id[focus_target][0])}\")\n",
    "\n",
    "map = folium.Map(location=list(target_id[focus_target]))\n",
    "\n",
    "target_icon = folium.features.CustomIcon(\n",
    "    './logos/carrefour.png',\n",
    "    icon_size=(50, 50)\n",
    ")\n",
    "\n",
    "# Add points in folium map\n",
    "folium.Marker(\n",
    "    location=target_id[focus_target],\n",
    "    popup=focus_target,\n",
    "    icon=target_icon\n",
    ").add_to(map)\n",
    "\n",
    "if len(nearby_id_competitor_dict[focus_target]) > 0:\n",
    "    for id in nearby_id_competitor_dict[focus_target]:\n",
    "        coords = [float(x) for x in competitor_coord_dict[id]]\n",
    "        folium.Marker(\n",
    "            location=coords,\n",
    "            popup=id,\n",
    "        ).add_to(map)\n",
    "\n",
    "else:\n",
    "    print('No competitors found')\n",
    "\n",
    "map"
   ],
   "outputs": [],
   "execution_count": null
  },
  {
   "metadata": {},
   "cell_type": "markdown",
   "source": "## Compare price for a date with competitors"
  },
  {
   "metadata": {},
   "cell_type": "code",
   "source": [
    "def get_target_nearby_brand_dict(station_dict):\n",
    "\n",
    "    final_dict = {}\n",
    "    for local_target_id in station_dict:\n",
    "        list_brand = stations_df[stations_df['id'].isin(station_dict[local_target_id])]['Enseignes'].unique().tolist()\n",
    "        local_target_dict = {}\n",
    "\n",
    "        # Filter ids in nearby_competitor_dict that got the brand\n",
    "        for brand in list_brand:\n",
    "            local_target_dict[brand] = stations_df[(stations_df['id'].isin(station_dict[local_target_id])) & (stations_df['Enseignes'] == brand)]['id'].tolist()\n",
    "\n",
    "        final_dict[local_target_id] = local_target_dict\n",
    "\n",
    "    return final_dict"
   ],
   "outputs": [],
   "execution_count": null
  },
  {
   "metadata": {},
   "cell_type": "code",
   "source": "selected_date = '2024-07-01'",
   "outputs": [],
   "execution_count": null
  },
  {
   "metadata": {},
   "cell_type": "code",
   "source": [
    "def compare_price_with_competitors(id_focus_target):\n",
    "\n",
    "    brands_nearby = target_brand_dict[id_focus_target]\n",
    "\n",
    "    brands_counts = {brand: count_price_competitors(brand, brands_nearby, id_focus_target) for brand in brands_nearby}\n",
    "    return  brands_counts\n",
    "\n",
    "def count_price_competitors(brand, brands_nearby, id_focus_target):\n",
    "    # Filter the selected date_price_df by selecting only station of the brand\n",
    "\n",
    "    date_brand_price_df = date_price_df[date_price_df['id'].isin(brands_nearby[brand])]\n",
    "\n",
    "    target_row = date_price_df[date_price_df['id'] == id_focus_target]\n",
    "\n",
    "    if target_row.empty:\n",
    "        return 0, 0, 0\n",
    "\n",
    "    date_brand_price_df = pd.concat([date_brand_price_df, target_row], ignore_index=True)\n",
    "\n",
    "    date_brand_price_df.sort_values(by=selected_fuel, inplace=True)\n",
    "    date_brand_price_df.reset_index(drop=True, inplace=True)\n",
    "\n",
    "    # Find index of the target in the sorted dataframe\n",
    "    target_sorted_index = date_brand_price_df[date_brand_price_df['id'] == id_focus_target].index[0]\n",
    "\n",
    "    # Get its price\n",
    "    focus_target_price = date_brand_price_df.loc[target_sorted_index, selected_fuel]\n",
    "    lower, low_eq, high_eq, higher = 0, 0, 0, 0\n",
    "\n",
    "    # check above and below the focus target\n",
    "    while (\n",
    "            target_sorted_index - low_eq >= 0 and\n",
    "            focus_target_price == date_brand_price_df.loc[target_sorted_index - low_eq, selected_fuel]\n",
    "    ):\n",
    "        low_eq += 1\n",
    "\n",
    "    # Remove the count of itself\n",
    "    low_eq -= 1\n",
    "    lower = target_sorted_index - low_eq\n",
    "\n",
    "    while (\n",
    "            target_sorted_index + high_eq < len(date_brand_price_df) and\n",
    "            focus_target_price == date_brand_price_df.loc[target_sorted_index + high_eq, selected_fuel]\n",
    "\n",
    "    ):\n",
    "        high_eq += 1\n",
    "\n",
    "    high_eq -= 1\n",
    "    higher = len(date_brand_price_df) - (target_sorted_index + 1) - high_eq\n",
    "\n",
    "    eq = low_eq + high_eq\n",
    "\n",
    "    return lower, eq, higher\n"
   ],
   "outputs": [],
   "execution_count": null
  },
  {
   "metadata": {},
   "cell_type": "code",
   "source": [
    "nearby_brand_file_path = f'{target_brand}_nearby_brand_{search_radius}_km.json'\n",
    "\n",
    "if os.path.exists(nearby_brand_file_path):\n",
    "    with open(nearby_brand_file_path, \"r\") as f:\n",
    "        target_brand_dict = json.load(f)\n",
    "\n",
    "else:\n",
    "    target_brand_dict = get_target_nearby_brand_dict(nearby_id_competitor_dict)\n",
    "\n",
    "    with open(nearby_brand_file_path, \"w\") as f:\n",
    "        json.dump(target_brand_dict, f)\n",
    "\n",
    "date_price_df = price_df[price_df['Date'] == selected_date]\n"
   ],
   "outputs": [],
   "execution_count": null
  },
  {
   "metadata": {},
   "cell_type": "code",
   "source": [
    "\n",
    "detail_nb_competitors_dict = {\n",
    "    id: compare_price_with_competitors(id)\n",
    "    for id in nearby_id_competitor_dict\n",
    "}\n",
    "\n",
    "pprint(detail_nb_competitors_dict)\n",
    "\n"
   ],
   "outputs": [],
   "execution_count": null
  },
  {
   "metadata": {},
   "cell_type": "code",
   "source": [
    "def create_detail_df(detail_nb_competitors_dict):\n",
    "    detail_dict = {}\n",
    "\n",
    "    for id in detail_nb_competitors_dict:\n",
    "        for brand in detail_nb_competitors_dict[id]:\n",
    "            lower, eq, higher = detail_nb_competitors_dict[id][brand]\n",
    "\n",
    "            if brand not in detail_dict:\n",
    "                detail_dict[brand] = {\n",
    "                    'lower': lower,\n",
    "                    'eq': eq,\n",
    "                    'higher': higher\n",
    "                }\n",
    "            else:\n",
    "                detail_dict[brand]['lower'] += lower\n",
    "                detail_dict[brand]['eq'] += eq\n",
    "                detail_dict[brand]['higher'] += higher\n",
    "\n",
    "    detail_df = pd.DataFrame(detail_dict).T\n",
    "\n",
    "    return detail_df\n",
    "\n",
    "detail_df = create_detail_df(detail_nb_competitors_dict)\n",
    "\n",
    "detail_df\n"
   ],
   "outputs": [],
   "execution_count": null
  },
  {
   "metadata": {},
   "cell_type": "code",
   "source": [
    "# bar plot of the number of competitors for each category\n",
    "fig = px.bar(detail_df, x=detail_df.index, y=['lower', 'eq', 'higher'],\n",
    "             title='Number of competitors around the focus target',\n",
    "             labels={'value': 'Number of competitors', 'index': 'Brand'},\n",
    "             barmode='stack'\n",
    "             )\n",
    "\n",
    "fig.show()"
   ],
   "outputs": [],
   "execution_count": null
  },
  {
   "metadata": {},
   "cell_type": "code",
   "source": "len(nearby_id_competitor_dict.keys())",
   "outputs": [],
   "execution_count": null
  }
 ],
 "metadata": {
  "kernelspec": {
   "display_name": "bi-deux",
   "language": "python",
   "name": "python3"
  },
  "language_info": {
   "codemirror_mode": {
    "name": "ipython",
    "version": 3
   },
   "file_extension": ".py",
   "mimetype": "text/x-python",
   "name": "python",
   "nbconvert_exporter": "python",
   "pygments_lexer": "ipython3",
   "version": "3.12.7"
  }
 },
 "nbformat": 4,
 "nbformat_minor": 2
}
